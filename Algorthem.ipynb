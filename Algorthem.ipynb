{
 "cells": [
  {
   "cell_type": "code",
   "execution_count": 95,
   "id": "263e457c",
   "metadata": {},
   "outputs": [],
   "source": [
    "# by marwan khaled\n",
    "import bisect as bs"
   ]
  },
  {
   "cell_type": "code",
   "execution_count": 96,
   "id": "c0294d38",
   "metadata": {},
   "outputs": [],
   "source": [
    "def max_profit_Jobs( s_T, e_T, profit):   #create function to take 3 element (startTime, endTime, profit)\n",
    "    N=len(startTime)        #measure length startTime must be the same for all\n",
    "    jobs=list(zip(s_T, e_T, profit))     #Use zip to combine startTime, endTime, profit to sort them by start time\n",
    "    jobs.sort() #Sort jobs by end time\n",
    "    # two choices either first job+next job starting time/skip job\n",
    "    def rec(i):\n",
    "        if i==N :return 0 #If i==N we return to 0, that's why there is no profit\n",
    "        j= bs.bisect_left(s_T,jobs[i][1])  #Walk step by step and skip if there is an overlap\n",
    "        one = jobs[i][2] + rec(j) #Find the longest profit\n",
    "        two = rec(i+1) #Find the longest profit\n",
    "        return max(one , two)  # return max profit\n",
    "    \n",
    "    return rec(0)\n",
    "    "
   ]
  },
  {
   "cell_type": "code",
   "execution_count": 97,
   "id": "7b39c329",
   "metadata": {},
   "outputs": [
    {
     "name": "stdout",
     "output_type": "stream",
     "text": [
      "10\n"
     ]
    }
   ],
   "source": [
    "startTime =[1,2,5,6]\n",
    "endTime =[6,5,7,8]\n",
    "profit =[6,5,5,3]\n",
    "ob = max_profit_Jobs(startTime,endTime,profit)\n",
    "print(ob)"
   ]
  },
  {
   "cell_type": "code",
   "execution_count": 98,
   "id": "3ebb241e",
   "metadata": {},
   "outputs": [],
   "source": [
    "#############################################################"
   ]
  },
  {
   "cell_type": "code",
   "execution_count": 99,
   "id": "c7459f66",
   "metadata": {},
   "outputs": [],
   "source": [
    "## Another thought"
   ]
  },
  {
   "cell_type": "code",
   "execution_count": 106,
   "id": "431ee6dc",
   "metadata": {},
   "outputs": [],
   "source": [
    "def max_profit(jops):   #create function to take 3 element (startTime, endTime, profit)\n",
    "    jobs=sorted(jops,key =lambda x: x[1])   #Sort jobs by end time\n",
    "    e_t=[e for s,e,p in jobs]  #specify end Time from jobs\n",
    "    n=len(jobs)  #measure length startTime must be the same for all\n",
    "    dp=[0]*n  \n",
    "    dp[0]=jobs[0][2]\n",
    "    for i in range(1,n):  #We will work to walk on every profit and start seeing the highest profit\n",
    "        s=jobs[i][0]  #Determine the start\n",
    "        e=jobs[i][1]  #Determine the end\n",
    "        p=jobs[i][2]  #Determine the profit \n",
    "        dp[i]=dp[i-1]\n",
    "        index =bs.bisect_right (e_t,s)-1 #ensuring no two jobs overlap -1\n",
    "        dp[i]=max(dp[i],(dp[index] if index >= 0 else 0)+p) \n",
    "    return dp[-1]\n",
    "        "
   ]
  },
  {
   "cell_type": "code",
   "execution_count": 107,
   "id": "10b25020",
   "metadata": {},
   "outputs": [
    {
     "name": "stdout",
     "output_type": "stream",
     "text": [
      "10\n"
     ]
    }
   ],
   "source": [
    "jops = [[1,6,6],[2,5,5,],[5,7,5],[6,8,3]]\n",
    "ob = max_profit(jops)\n",
    "print(ob)"
   ]
  },
  {
   "cell_type": "code",
   "execution_count": null,
   "id": "15a72936",
   "metadata": {},
   "outputs": [],
   "source": []
  }
 ],
 "metadata": {
  "kernelspec": {
   "display_name": "Python 3 (ipykernel)",
   "language": "python",
   "name": "python3"
  },
  "language_info": {
   "codemirror_mode": {
    "name": "ipython",
    "version": 3
   },
   "file_extension": ".py",
   "mimetype": "text/x-python",
   "name": "python",
   "nbconvert_exporter": "python",
   "pygments_lexer": "ipython3",
   "version": "3.9.12"
  }
 },
 "nbformat": 4,
 "nbformat_minor": 5
}
